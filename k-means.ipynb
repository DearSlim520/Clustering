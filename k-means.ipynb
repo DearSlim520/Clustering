{
 "cells": [
  {
   "cell_type": "code",
   "execution_count": 256,
   "metadata": {},
   "outputs": [],
   "source": [
    "#coding:utf-8\n",
    "import numpy as np\n",
    "import matplotlib.pyplot as plt\n",
    "import pandas as pd\n",
    "from sklearn.model_selection import train_test_split\n",
    "from collections import Counter\n",
    "import random \n",
    "from sklearn import datasets "
   ]
  },
  {
   "cell_type": "code",
   "execution_count": 257,
   "metadata": {},
   "outputs": [],
   "source": [
    "# 1. 数据预处理\n",
    "\n",
    "def getTrainSet():\n",
    "    \n",
    "    iris = datasets.load_iris() \n",
    "    data = iris.data[:, :4]         #取特征空间中的4个维度(纯数据)\n",
    "    \n",
    "    return data\n",
    "\n",
    "data = getTrainSet()"
   ]
  },
  {
   "cell_type": "code",
   "execution_count": 258,
   "metadata": {},
   "outputs": [],
   "source": [
    "def vec_adjust(avg, data):\n",
    "    \n",
    "    # 2-考察样本，划分\n",
    "    # 计算均值向量\n",
    "    cluster = []\n",
    "    for n in range(len(avg)):\n",
    "        cluster.append([])\n",
    "    for d in data:                #数据集中任一[5.8, 2.7, 5.1, 1.9]\n",
    "        distance_list = []\n",
    "        for a in avg:         #均值向量集任一[5.8, 2.7, 5.1, 1.9]\n",
    "            sum = 0\n",
    "            for i in range(len(d)):\n",
    "                sum +=(d[i]- a[i]) ** 2\n",
    "            distance = sum ** 0.5\n",
    "            distance_list.append(distance)\n",
    "        min_distance = min(distance_list)                           #最小距离\n",
    "        min_index = distance_list.index(min(distance_list))         #簇的下标\n",
    "        #print(distance_list, ' ', min_distance,'[',min_index, ']')\n",
    "        cluster[min_index].append(list(d))\n",
    "\n",
    "    # 3-测算新的均值向量\n",
    "    tmp_cluster = []\n",
    "    for n in range(len(avg)):\n",
    "        tmp_cluster.append([])\n",
    "    for c in cluster:\n",
    "        for i in range(len(d)):\n",
    "            tmp_cluster[cluster.index(c)].append(np.sum(row[i] for row in c)/len(c))  #按位求均值存入\n",
    "    \n",
    "    return tmp_cluster\n",
    "    "
   ]
  },
  {
   "cell_type": "code",
   "execution_count": 259,
   "metadata": {},
   "outputs": [
    {
     "name": "stderr",
     "output_type": "stream",
     "text": [
      "/Library/anaconda3/lib/python3.7/site-packages/ipykernel_launcher.py:27: DeprecationWarning: Calling np.sum(generator) is deprecated, and in the future will give a different result. Use np.sum(np.fromiter(generator)) or the python sum builtin instead.\n"
     ]
    }
   ],
   "source": [
    "# 均值向量列表\n",
    "tmp_cluster = KMeans(data, 3)\n",
    "#print(tmp_cluster)"
   ]
  },
  {
   "cell_type": "code",
   "execution_count": 260,
   "metadata": {
    "scrolled": false
   },
   "outputs": [],
   "source": [
    "# 2. k-means聚类器实现\n",
    "def KMeans(data, k):\n",
    "\n",
    "    # 1-随机选择k个作为初始均值向量\n",
    "    avg = []\n",
    "    index = random.sample(range(0,150),k)\n",
    "    for i in range(k):\n",
    "        avg.append(list(data[index[i]]))\n",
    "    tmp_cluster = vec_adjust(avg, data)\n",
    "\n",
    "    # 4-迭代，直到k值不变\n",
    "    while tmp_cluster != avg:\n",
    "        avg = tmp_cluster.copy()\n",
    "        tmp_cluster = vec_adjust(avg, data)\n",
    "    #print(tmp_cluster)\n",
    "\n",
    "    return tmp_cluster"
   ]
  },
  {
   "cell_type": "code",
   "execution_count": 261,
   "metadata": {},
   "outputs": [],
   "source": [
    "# 3. 获取预测标签下标列表\n",
    "def get_label_pred(avg, data):\n",
    "    \n",
    "    label_pred = []\n",
    "    for d in data:                #数据集中任一[5.8, 2.7, 5.1, 1.9]\n",
    "        distance_list = []\n",
    "        for a in avg:         #均值向量集任一[5.8, 2.7, 5.1, 1.9]\n",
    "            sum = 0\n",
    "            for i in range(len(d)):\n",
    "                sum +=(d[i]- a[i]) ** 2\n",
    "            distance = sum ** 0.5\n",
    "            distance_list.append(distance)\n",
    "        min_distance = min(distance_list)                           #最小距离\n",
    "        min_index = distance_list.index(min(distance_list))         #簇的下标\n",
    "        label_pred.append(min_index)\n",
    "    \n",
    "    return label_pred"
   ]
  },
  {
   "cell_type": "code",
   "execution_count": 262,
   "metadata": {},
   "outputs": [],
   "source": [
    "# 预测下标列表\n",
    "label_pred = get_label_pred(tmp_cluster, data)\n",
    "label_pred_array = np.array(label_pred)"
   ]
  },
  {
   "cell_type": "code",
   "execution_count": 263,
   "metadata": {},
   "outputs": [
    {
     "name": "stdout",
     "output_type": "stream",
     "text": [
      "0.5257044388398483\n"
     ]
    }
   ],
   "source": [
    "# 5. 计算平均平方误差（MSE）\n",
    "def calculateMSE(d, a):\n",
    "    total = ((d[0]-a[0])**2) +((d[1]-a[1])**2)+ ((d[2]-a[2])**2) +((d[3]-a[3])**2)\n",
    "    return total\n",
    "\n",
    "# 计算平均平方误差\n",
    "total = 0\n",
    "for d,i in zip(data,label_pred):\n",
    "    total += calculateMSE(d,tmp_cluster[i])\n",
    "print(total/len(data))"
   ]
  },
  {
   "cell_type": "code",
   "execution_count": 264,
   "metadata": {
    "scrolled": true
   },
   "outputs": [
    {
     "data": {
      "image/png": "[encoded data removed]",
      "text/plain": [
       "<Figure size 432x288 with 1 Axes>"
      ]
     },
     "metadata": {
      "needs_background": "light"
     },
     "output_type": "display_data"
    }
   ],
   "source": [
    "# 4. 绘制k-means结果\n",
    "x0 = data[label_pred_array == 0]\n",
    "x1 = data[label_pred_array == 1]\n",
    "x2 = data[label_pred_array == 2]\n",
    "plt.scatter(x0[:, 0], x0[:, 1], c=\"red\", marker='o', label='Cluster 0')  \n",
    "plt.scatter(x1[:, 0], x1[:, 1], c=\"green\", marker='*', label='Cluster 1')  \n",
    "plt.scatter(x2[:, 0], x2[:, 1], c=\"blue\", marker='+', label='Cluster 2')  \n",
    "\n",
    "plt.xlabel('sepal length')  \n",
    "plt.ylabel('sepal width')  \n",
    "plt.legend(loc=2)  \n",
    "plt.show()  "
   ]
  }
 ],
 "metadata": {
  "kernelspec": {
   "display_name": "Python 3",
   "language": "python",
   "name": "python3"
  },
  "language_info": {
   "codemirror_mode": {
    "name": "ipython",
    "version": 3
   },
   "file_extension": ".py",
   "mimetype": "text/x-python",
   "name": "python",
   "nbconvert_exporter": "python",
   "pygments_lexer": "ipython3",
   "version": "3.7.4"
  }
 },
 "nbformat": 4,
 "nbformat_minor": 2
}

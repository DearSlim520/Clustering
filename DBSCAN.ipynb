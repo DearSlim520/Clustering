{
 "cells": [
  {
   "cell_type": "code",
   "execution_count": 207,
   "metadata": {},
   "outputs": [],
   "source": [
    "#coding:utf-8\n",
    "import numpy as np\n",
    "import matplotlib.pyplot as plt\n",
    "import pandas as pd\n",
    "from sklearn.model_selection import train_test_split\n",
    "from collections import Counter\n",
    "import random \n",
    "from sklearn import datasets "
   ]
  },
  {
   "cell_type": "code",
   "execution_count": 208,
   "metadata": {},
   "outputs": [],
   "source": [
    "# 数据预处理\n",
    "def getTrainSet():\n",
    "    \n",
    "    iris = datasets.load_iris() \n",
    "    data = iris.data[:, :4]         #取特征空间中的4个维度(纯数据)\n",
    "    \n",
    "    return data\n",
    "\n",
    "# 欧式距离计算方法\n",
    "def get_distance(value1, value2):\n",
    "    sum = 0\n",
    "    for x,y in zip(value1, value2):\n",
    "        sum += (x-y) ** 2\n",
    "    distance = sum ** 0.5\n",
    "    \n",
    "    return distance\n",
    "\n",
    "# 不断迭代减少Omiga集合中元素\n",
    "def find_cluster(new_L, L_detail):\n",
    "    index = random.randint(0,len(new_L)-1)           #获取随机种子index\n",
    "    sub = L_detail[index]\n",
    "    ret = list(set(new_L).intersection(set(L_detail[index])))    # 选出在L中又在Ci中的核心对象\n",
    "    for i in ret:\n",
    "        del L_detail[new_L.index(i)]\n",
    "        new_L.remove(i)\n",
    "\n",
    "    return sub, new_L"
   ]
  },
  {
   "cell_type": "markdown",
   "metadata": {},
   "source": [
    "# 测试"
   ]
  },
  {
   "cell_type": "code",
   "execution_count": 209,
   "metadata": {},
   "outputs": [],
   "source": [
    "def test(e, minpts):  \n",
    "#1. 数据预处理\n",
    "    data = getTrainSet()\n",
    "    \n",
    "#2. 获得核心对象集合\n",
    "    # 得出每个点到任一点的欧式距离集合\n",
    "    distance_list = []\n",
    "    for d in data:\n",
    "        d_list = []\n",
    "        for each in data: \n",
    "            distance = get_distance(each,d)\n",
    "            d_list.append(distance)\n",
    "        distance_list.append(d_list)\n",
    "    #print(distance_list)                        # distance_list = [[0,0.1,...], [0.3,0,...],....,[..,0.9,0]]\n",
    "\n",
    "# 3. 获得初始核心对象总表L、核心对象聚类簇L_detail\n",
    "    L = []                     #核心对象总表 L\n",
    "    L_detail = []              #核心对象详细聚类簇总表 L_detail\n",
    "\n",
    "    for item in distance_list:\n",
    "        tmp = [item.index(a) for a in item if a < e]          #1-距离e以内\n",
    "        tmp = list(set(tmp))\n",
    "\n",
    "        if len(tmp) >= minpts:                                #2-个数mintps以上    \n",
    "            for t in tmp:\n",
    "                if t not in L:\n",
    "                    L.append(t)\n",
    "                    L_detail.append(tmp)          #核心对象的聚类簇添加进去   \n",
    "        \n",
    "# 4. 获得聚类结果\n",
    "    new_L = L.copy()\n",
    "    unvisited = []              # 未访问下标 unvisited\n",
    "    for i in range(150):\n",
    "        unvisited.append(i)\n",
    "    cluster_list = []\n",
    "    while new_L != []:\n",
    "        cluster, new_L = find_cluster(new_L, L_detail)\n",
    "        cover = list(set(unvisited).intersection(set(cluster)))\n",
    "        for c in cover:\n",
    "            unvisited.remove(c)    \n",
    "        cluster_list.append(cover)\n",
    "\n",
    "    print(cluster_list)\n",
    "    \n",
    "    return unvisited,cluster_list"
   ]
  },
  {
   "cell_type": "markdown",
   "metadata": {},
   "source": [
    "# 性能测试 & 寻找最优参数"
   ]
  },
  {
   "cell_type": "code",
   "execution_count": 205,
   "metadata": {},
   "outputs": [
    {
     "name": "stdout",
     "output_type": "stream",
     "text": [
      "0.9-4\n"
     ]
    }
   ],
   "source": [
    "# 遍历：求最佳参数(e,minpts)\n",
    "\n",
    "judge_dict = {}\n",
    "for x in range(3,10):\n",
    "    for y in range(3,10):\n",
    "        unvisited,cluster_list = test(0.1 * x , y)\n",
    "        count = 0\n",
    "        for cc in cluster_list:\n",
    "            count += len(cc)\n",
    "        judge = len(unvisited)/len(data)*100 + len(cluster_list)\n",
    "        judge_dict[str(x*0.1)+'-'+str(y)] = judge\n",
    "        \n",
    "print(min(judge_dict, key=judge_dict.get))\n"
   ]
  },
  {
   "cell_type": "code",
   "execution_count": 210,
   "metadata": {},
   "outputs": [
    {
     "name": "stdout",
     "output_type": "stream",
     "text": [
      "[[0, 1, 2, 3, 4, 5, 6, 7, 9, 10, 11, 12, 14, 16, 17, 18, 19, 20, 21, 23, 25, 26, 27, 29, 30, 31, 32, 33, 34, 35, 36, 37, 38, 39, 40, 42, 43, 44, 46, 47, 48, 49], [65, 74, 75, 76, 77, 110, 50, 51, 52, 54, 86, 56, 58], [133, 134, 138, 146, 147, 149, 55, 63, 68, 70, 72, 73, 78, 83, 87, 91, 97, 101, 103, 111, 113, 116, 119, 123, 126, 127], [130, 131, 102, 135, 105, 107, 117, 118, 122, 125], [53, 59, 60, 61, 62, 64, 66, 67, 69, 71, 79, 80, 81, 88, 89, 90, 92, 94, 95, 96, 99, 106], [8, 41, 13, 45, 22, 24, 28], [128, 100, 132, 104, 136, 137, 140, 143, 112, 144, 115, 148, 120, 124], [121, 114, 84, 85], [82], [145, 139, 141], [57, 98, 93], [129, 108, 109], [15]]\n",
      "Noice Rate: 0.6666666666666667 %\n",
      "Cluster No: 13\n"
     ]
    }
   ],
   "source": [
    "#最终测试\n",
    "\n",
    "unvisited,cluster_list = test(0.9,4)\n",
    "\n",
    "count = 0\n",
    "for cc in cluster_list:\n",
    "    count += len(cc)\n",
    "\n",
    "print('Noice Rate:',len(unvisited)/len(data)*100,'%')\n",
    "print('Cluster No:',len(cluster_list))"
   ]
  }
 ],
 "metadata": {
  "kernelspec": {
   "display_name": "Python 3",
   "language": "python",
   "name": "python3"
  },
  "language_info": {
   "codemirror_mode": {
    "name": "ipython",
    "version": 3
   },
   "file_extension": ".py",
   "mimetype": "text/x-python",
   "name": "python",
   "nbconvert_exporter": "python",
   "pygments_lexer": "ipython3",
   "version": "3.7.4"
  }
 },
 "nbformat": 4,
 "nbformat_minor": 2
}
